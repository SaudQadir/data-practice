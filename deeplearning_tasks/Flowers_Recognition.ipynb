{
 "cells": [
  {
   "cell_type": "markdown",
   "metadata": {
    "id": "BXgJ6uT1NydQ"
   },
   "source": [
    "Assignment: Flowers Recognition <br>\n",
    "Dataset Description:<br>\n",
    "\n",
    "This dataset contains 4242 images of flowers.<br>\n",
    "The data collection is based on the data flicr, google images, yandex images.<br>\n",
    "You can use this datastet to recognize plants from the photo.<br>\n",
    "\n",
    "Attribute Information:<br>\n",
    "The pictures are divided into five classes: chamomile, tulip, rose, sunflower, dandelion.<br>\n",
    "For each class there are about 800 photos. Photos are not high resolution, about 320x240 pixels. <br>\n",
    "<b>Also explore how to resize images in tensorflow and then resize all the images to a same size. </b> <br>\n",
    "This is a Multiclass Classification Problem.<br>\n",
    "\n",
    "\n"
   ]
  },
  {
   "cell_type": "markdown",
   "metadata": {
    "id": "T7vy-ktuOKJH"
   },
   "source": [
    "WORKFLOW : <br>\n",
    "Load Data <br>\n",
    "Split into 60 and 40 ratio.<br>\n",
    "Encode labels.<br>\n",
    "Create Model<br>\n",
    "Compilation Step (Note : Its a Multiclass Classification problem , select loss , metrics according to it)<br>\n",
    "Train the Model.<br>\n",
    "If the model gets overfit tune your model by changing the units , No. of layers , epochs , add dropout layer or add Regularizer according to the need .<br>\n",
    "Prediction should be > 85%<br>\n",
    "Evaluation Step<br>\n",
    "Prediction<br>\n",
    "\n",
    "\n"
   ]
  },
  {
   "cell_type": "markdown",
   "metadata": {
    "id": "ri3Bg5qfPRic"
   },
   "source": [
    "Data : <br>\n",
    "https://drive.google.com/file/d/1-OX6wn5gA-bJpjPNfSyaYQLz-A-AB_uj/view?usp=sharing"
   ]
  },
  {
   "cell_type": "code",
   "execution_count": 18,
   "metadata": {},
   "outputs": [],
   "source": [
    "import cv2\n",
    "import numpy as np\n",
    "import matplotlib.pyplot as plt\n",
    "from sklearn.preprocessing import LabelEncoder\n",
    "from sklearn.model_selection import train_test_split\n",
    "\n",
    "import tensorflow as tf\n",
    "from tensorflow.keras.layers import Input, Dense, Dropout, Conv2D, MaxPooling2D, Flatten\n",
    "\n",
    "from tensorflow.keras.utils import to_categorical\n"
   ]
  },
  {
   "cell_type": "code",
   "execution_count": 19,
   "metadata": {
    "id": "hTtg3WuGTA1o"
   },
   "outputs": [
    {
     "name": "stdout",
     "output_type": "stream",
     "text": [
      "['daisy', 'dandelion', 'rose', 'sunflower', 'tulip']\n"
     ]
    }
   ],
   "source": [
    "import os\n",
    "print(os.listdir('flowers/flowers'))\n",
    "\n",
    "FLOWER_DAISY_DIR = 'flowers/daisy'\n",
    "FLOWER_SUNFLOWER_DIR = 'flowers/sunflower'\n",
    "FLOWER_TULIP_DIR = 'flowers/tulip'\n",
    "FLOWER_DANDI_DIR = 'flowers/dandelion'\n",
    "FLOWER_ROSE_DIR = 'flowers/rose'"
   ]
  },
  {
   "cell_type": "code",
   "execution_count": 20,
   "metadata": {},
   "outputs": [],
   "source": [
    "def assign_label(img,flower_type):\n",
    "    return flower_type"
   ]
  },
  {
   "cell_type": "code",
   "execution_count": 21,
   "metadata": {},
   "outputs": [],
   "source": [
    "def make_train_data(flower_type,DIR):\n",
    "    for img in os.listdir(DIR):\n",
    "        label=assign_label(img,flower_type)\n",
    "        path = os.path.join(DIR,img)\n",
    "        img = cv2.imread(path,cv2.IMREAD_COLOR)\n",
    "        img = cv2.resize(img, (IMG_SIZE,IMG_SIZE))\n",
    "        \n",
    "        X.append(np.array(img))\n",
    "        Z.append(str(label))\n",
    "        "
   ]
  },
  {
   "cell_type": "code",
   "execution_count": 22,
   "metadata": {},
   "outputs": [
    {
     "name": "stdout",
     "output_type": "stream",
     "text": [
      "769\n",
      "1503\n",
      "2487\n",
      "3271\n"
     ]
    }
   ],
   "source": [
    "IMG_SIZE = 150\n",
    "X, Z = [], []\n",
    "\n",
    "try:\n",
    "    make_train_data('Daisy',FLOWER_DAISY_DIR)\n",
    "    print(len(X))\n",
    "    make_train_data('Sunflower',FLOWER_SUNFLOWER_DIR)\n",
    "    print(len(X))\n",
    "    make_train_data('Tulip',FLOWER_TULIP_DIR)\n",
    "    print(len(X))\n",
    "    make_train_data('Rose',FLOWER_ROSE_DIR)\n",
    "    print(len(X))\n",
    "    make_train_data('Dandelion',FLOWER_DANDI_DIR)\n",
    "    print(len(X))\n",
    "except:\n",
    "    pass"
   ]
  },
  {
   "cell_type": "code",
   "execution_count": 23,
   "metadata": {},
   "outputs": [
    {
     "data": {
      "text/plain": [
       "array([1., 0., 0., 0., 0.], dtype=float32)"
      ]
     },
     "execution_count": 23,
     "metadata": {},
     "output_type": "execute_result"
    }
   ],
   "source": [
    "le = LabelEncoder()\n",
    "Z_enc = le.fit_transform(Z)\n",
    "Z_enc = to_categorical(Z_enc)\n",
    "Z_enc[0]"
   ]
  },
  {
   "cell_type": "code",
   "execution_count": 24,
   "metadata": {},
   "outputs": [
    {
     "data": {
      "text/plain": [
       "array([[[0.5254902 , 0.53333333, 0.53333333],\n",
       "        [0.56078431, 0.56470588, 0.56470588],\n",
       "        [0.57647059, 0.57647059, 0.57647059],\n",
       "        ...,\n",
       "        [0.58823529, 0.59607843, 0.59607843],\n",
       "        [0.59607843, 0.60392157, 0.60392157],\n",
       "        [0.59607843, 0.59607843, 0.59607843]],\n",
       "\n",
       "       [[0.51764706, 0.5254902 , 0.5254902 ],\n",
       "        [0.55686275, 0.56078431, 0.56078431],\n",
       "        [0.57254902, 0.57254902, 0.57254902],\n",
       "        ...,\n",
       "        [0.58823529, 0.59607843, 0.59607843],\n",
       "        [0.59215686, 0.6       , 0.6       ],\n",
       "        [0.59215686, 0.59215686, 0.59215686]],\n",
       "\n",
       "       [[0.51372549, 0.5254902 , 0.5254902 ],\n",
       "        [0.54509804, 0.55294118, 0.55686275],\n",
       "        [0.56862745, 0.56470588, 0.57254902],\n",
       "        ...,\n",
       "        [0.59607843, 0.60392157, 0.60392157],\n",
       "        [0.58823529, 0.59215686, 0.59215686],\n",
       "        [0.57647059, 0.57647059, 0.57647059]],\n",
       "\n",
       "       ...,\n",
       "\n",
       "       [[0.10196078, 0.18431373, 0.17254902],\n",
       "        [0.09803922, 0.18039216, 0.16862745],\n",
       "        [0.10196078, 0.18431373, 0.17254902],\n",
       "        ...,\n",
       "        [0.49019608, 0.49411765, 0.50980392],\n",
       "        [0.48627451, 0.49019608, 0.50588235],\n",
       "        [0.49019608, 0.49411765, 0.50980392]],\n",
       "\n",
       "       [[0.10196078, 0.18431373, 0.17254902],\n",
       "        [0.10196078, 0.18431373, 0.17254902],\n",
       "        [0.10588235, 0.18823529, 0.17647059],\n",
       "        ...,\n",
       "        [0.49803922, 0.49803922, 0.51372549],\n",
       "        [0.49019608, 0.49411765, 0.50980392],\n",
       "        [0.48627451, 0.49411765, 0.50588235]],\n",
       "\n",
       "       [[0.10196078, 0.18431373, 0.17254902],\n",
       "        [0.10196078, 0.18431373, 0.17254902],\n",
       "        [0.10588235, 0.18823529, 0.17647059],\n",
       "        ...,\n",
       "        [0.49803922, 0.50196078, 0.51764706],\n",
       "        [0.49411765, 0.49803922, 0.51372549],\n",
       "        [0.49411765, 0.49803922, 0.51372549]]])"
      ]
     },
     "execution_count": 24,
     "metadata": {},
     "output_type": "execute_result"
    }
   ],
   "source": [
    "X_std = np.array(X)/255\n",
    "X_std[0]"
   ]
  },
  {
   "cell_type": "code",
   "execution_count": 25,
   "metadata": {},
   "outputs": [
    {
     "name": "stdout",
     "output_type": "stream",
     "text": [
      "X_train:  (2593, 150, 150, 3)\n",
      "X_test:  (1730, 150, 150, 3)\n",
      "y_train:  (2593, 5)\n",
      "X_test:  (1730, 5)\n"
     ]
    }
   ],
   "source": [
    "X_train, X_test, y_train, y_test = train_test_split(X_std,Z_enc, test_size =0.4, random_state = 101)\n",
    "\n",
    "print(\"X_train: \", X_train.shape)\n",
    "print(\"X_test: \", X_test.shape)\n",
    "print(\"y_train: \", y_train.shape)\n",
    "print(\"X_test: \", y_test.shape)"
   ]
  },
  {
   "cell_type": "code",
   "execution_count": 29,
   "metadata": {},
   "outputs": [],
   "source": [
    "model = tf.keras.Sequential()\n",
    "model.add(Conv2D(filters = 32, kernel_size = (5,5),padding = 'Same',activation ='relu', input_shape = (150,150,3)))\n",
    "model.add(MaxPooling2D(pool_size=(2,2)))\n",
    "\n",
    "\n",
    "model.add(Conv2D(filters = 64, kernel_size = (3,3),padding = 'Same',activation ='relu'))\n",
    "model.add(MaxPooling2D(pool_size=(2,2), strides=(2,2)))\n",
    " \n",
    "\n",
    "model.add(Conv2D(filters =96, kernel_size = (3,3),padding = 'Same',activation ='relu'))\n",
    "model.add(MaxPooling2D(pool_size=(2,2), strides=(2,2)))\n",
    "\n",
    "model.add(Conv2D(filters = 96, kernel_size = (3,3),padding = 'Same',activation ='relu'))\n",
    "model.add(MaxPooling2D(pool_size=(2,2), strides=(2,2)))\n",
    "\n",
    "model.add(Flatten())\n",
    "model.add(Dense(512, activation = 'relu'))\n",
    "model.add(Dense(5, activation = \"softmax\"))\n",
    "\n",
    "\n",
    "model.compile(optimizer = 'adam', loss ='categorical_crossentropy', metrics = [\"accuracy\"])"
   ]
  },
  {
   "cell_type": "code",
   "execution_count": 31,
   "metadata": {},
   "outputs": [
    {
     "name": "stdout",
     "output_type": "stream",
     "text": [
      "Epoch 1/10\n",
      "82/82 [==============================] - 139s 2s/step - loss: 1.1217 - accuracy: 0.5310 - val_loss: 1.1574 - val_accuracy: 0.5075\n",
      "Epoch 2/10\n",
      "82/82 [==============================] - 134s 2s/step - loss: 1.0256 - accuracy: 0.5877 - val_loss: 1.0870 - val_accuracy: 0.5919\n",
      "Epoch 3/10\n",
      "82/82 [==============================] - 138s 2s/step - loss: 0.9053 - accuracy: 0.6444 - val_loss: 0.9435 - val_accuracy: 0.6370\n",
      "Epoch 4/10\n",
      "82/82 [==============================] - 134s 2s/step - loss: 0.8094 - accuracy: 0.6826 - val_loss: 1.0143 - val_accuracy: 0.6243\n",
      "Epoch 5/10\n",
      "82/82 [==============================] - 135s 2s/step - loss: 0.6788 - accuracy: 0.7354 - val_loss: 0.9602 - val_accuracy: 0.6659\n",
      "Epoch 6/10\n",
      "82/82 [==============================] - 136s 2s/step - loss: 0.5336 - accuracy: 0.8002 - val_loss: 1.0825 - val_accuracy: 0.6665\n",
      "Epoch 7/10\n",
      "82/82 [==============================] - 134s 2s/step - loss: 0.4272 - accuracy: 0.8473 - val_loss: 1.1885 - val_accuracy: 0.6538\n",
      "Epoch 8/10\n",
      "82/82 [==============================] - 140s 2s/step - loss: 0.2840 - accuracy: 0.8970 - val_loss: 1.4795 - val_accuracy: 0.6127\n",
      "Epoch 9/10\n",
      "82/82 [==============================] - 138s 2s/step - loss: 0.1934 - accuracy: 0.9341 - val_loss: 1.6533 - val_accuracy: 0.6341\n",
      "Epoch 10/10\n",
      "82/82 [==============================] - 136s 2s/step - loss: 0.1025 - accuracy: 0.9653 - val_loss: 1.9567 - val_accuracy: 0.6428\n"
     ]
    }
   ],
   "source": [
    "history = model.fit(X_train, y_train, validation_data=(X_test, y_test), epochs = 10, verbose = 1)"
   ]
  },
  {
   "cell_type": "code",
   "execution_count": 32,
   "metadata": {},
   "outputs": [
    {
     "data": {
      "image/png": "[encoded data removed]",
      "text/plain": [
       "<Figure size 1152x648 with 1 Axes>"
      ]
     },
     "metadata": {
      "needs_background": "light"
     },
     "output_type": "display_data"
    },
    {
     "data": {
      "image/png": "[encoded data removed]",
      "text/plain": [
       "<Figure size 1152x648 with 1 Axes>"
      ]
     },
     "metadata": {
      "needs_background": "light"
     },
     "output_type": "display_data"
    }
   ],
   "source": [
    "# Plot history\n",
    "def plot_hist(history):\n",
    "    fig = plt.figure(figsize=(16,9))\n",
    "    plt.rcParams['axes.labelsize'] = 15\n",
    "    plt.plot(history.history['accuracy'],'red',linewidth=3.0, label =\"training\")\n",
    "    plt.plot(history.history['val_accuracy'],'blue',linewidth=3.0, label = \"validation\")\n",
    "    plt.xlabel('epochs')\n",
    "    plt.ylabel('Accuracy')\n",
    "    plt.legend()\n",
    "    plt.show()\n",
    "\n",
    "    # Plot history\n",
    "\n",
    "    fig = plt.figure(figsize=(16,9))\n",
    "    plt.rcParams['axes.labelsize'] = 15\n",
    "    plt.plot(history.history['loss'],'red',linewidth=3.0, label =\"training\")\n",
    "    plt.plot(history.history['val_loss'],'blue',linewidth=3.0, label = \"validation\")\n",
    "    plt.xlabel('epochs')\n",
    "    plt.ylabel('loss')\n",
    "    plt.legend()\n",
    "    plt.show()\n",
    "plot_hist(history)"
   ]
  },
  {
   "cell_type": "code",
   "execution_count": 33,
   "metadata": {},
   "outputs": [
    {
     "name": "stdout",
     "output_type": "stream",
     "text": [
      "Evaluate on test data\n",
      "55/55 [==============================] - 21s 372ms/step - loss: 1.9567 - accuracy: 0.6428\n",
      "test loss, test acc: [1.956685185432434, 0.6427745819091797]\n",
      "Generate predictions for 10 samples\n",
      "predictions shape: (10, 5)\n"
     ]
    }
   ],
   "source": [
    "# Evaluate the model on the test data using `evaluate`\n",
    "print(\"Evaluate on test data\")\n",
    "results = model.evaluate(X_test, y_test)\n",
    "print(\"test loss, test acc:\", results)\n",
    "\n",
    "# Generate predictions (probabilities -- the output of the last layer)\n",
    "# on new data using `predict`\n",
    "print(\"Generate predictions for 10 samples\")\n",
    "predictions = model.predict(X_test[:10])\n",
    "print(\"predictions shape:\", predictions.shape)"
   ]
  },
  {
   "cell_type": "code",
   "execution_count": 38,
   "metadata": {},
   "outputs": [
    {
     "data": {
      "text/plain": [
       "array(['Sunflower', 'Rose', 'Rose', 'Tulip', 'Dandelion', 'Sunflower',\n",
       "       'Dandelion', 'Dandelion', 'Sunflower', 'Daisy'], dtype='<U9')"
      ]
     },
     "execution_count": 38,
     "metadata": {},
     "output_type": "execute_result"
    }
   ],
   "source": [
    "le.inverse_transform(np.argmax(y_test[:10],axis=1))"
   ]
  },
  {
   "cell_type": "code",
   "execution_count": 39,
   "metadata": {},
   "outputs": [
    {
     "data": {
      "text/plain": [
       "array(['Sunflower', 'Rose', 'Tulip', 'Tulip', 'Dandelion', 'Sunflower',\n",
       "       'Daisy', 'Tulip', 'Sunflower', 'Tulip'], dtype='<U9')"
      ]
     },
     "execution_count": 39,
     "metadata": {},
     "output_type": "execute_result"
    }
   ],
   "source": [
    "le.inverse_transform(np.argmax(predictions,axis=1))"
   ]
  }
 ],
 "metadata": {
  "colab": {
   "name": "Flowers Recognition.ipynb",
   "provenance": []
  },
  "kernelspec": {
   "display_name": "Python 3",
   "language": "python",
   "name": "python3"
  },
  "language_info": {
   "codemirror_mode": {
    "name": "ipython",
    "version": 3
   },
   "file_extension": ".py",
   "mimetype": "text/x-python",
   "name": "python",
   "nbconvert_exporter": "python",
   "pygments_lexer": "ipython3",
   "version": "3.8.8"
  }
 },
 "nbformat": 4,
 "nbformat_minor": 1
}
