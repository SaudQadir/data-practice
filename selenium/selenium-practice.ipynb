{
 "cells": [
  {
   "cell_type": "code",
   "execution_count": 1,
   "metadata": {},
   "outputs": [],
   "source": []
  },
  {
   "cell_type": "code",
   "execution_count": 2,
   "metadata": {},
   "outputs": [],
   "source": []
  },
  {
   "cell_type": "code",
   "execution_count": 3,
   "metadata": {},
   "outputs": [],
   "source": [
    "driver.get(\"https://consumer.huawei.com/en/community/new-year/?userId=125588297&fbclid=IwAR2AD-mJOvTsA-aXQ3mbIELa7HhgH0GKQJgcyDC4pvMxwu_XHKBnIwQ_DzQ\")"
   ]
  },
  {
   "cell_type": "code",
   "execution_count": 4,
   "metadata": {},
   "outputs": [],
   "source": [
    "driver.execute_script(\"window.open('about:blank', 'tab2');\") \n",
    "driver.switch_to.window(\"tab2\")\n",
    "driver.get(\"https://temp-mail.org/\")"
   ]
  },
  {
   "cell_type": "code",
   "execution_count": 5,
   "metadata": {},
   "outputs": [],
   "source": [
    "#driver.find_element_by_id(\"click-to-change\").click()\n",
    "time.sleep(2)\n",
    "driver.find_element_by_id(\"click-to-copy\").click()"
   ]
  },
  {
   "cell_type": "code",
   "execution_count": 6,
   "metadata": {},
   "outputs": [],
   "source": [
    "email = clipboard.paste()\n",
    "passcode  = email[:-1]"
   ]
  },
  {
   "cell_type": "code",
   "execution_count": 16,
   "metadata": {},
   "outputs": [],
   "source": [
    "driver.execute_script(\"window.open('about:blank', 'tab3');\") \n",
    "driver.get(\"https://id5.cloud.huawei.com/CAS/portal/userRegister/regbyemail.html?reqClientType=90&loginChannel=90000300&countryCode=Global&lang=en-us&loginUrl=https%3A%2F%2Fid5.cloud.huawei.com%2FCAS%2Fportal%2FloginAuth.html&service=https%3A%2F%2Foauth-login5.cloud.huawei.com%2Foauth2%2Fv2%2Fauthorize%3Fresponse_type%3Dcode%26client_id%3D100596125%26redirect_uri%3Dhttps%253A%252F%252Fconsumer.huawei.com%252Fen%252Fcommunity%252Flogin%252F%26scope%3Dhttps%253A%252F%252Fwww.huawei.com%252Fauth%252Faccount%252Fbase.profile%26display%3Dpage&fbclid=IwAR2nTfctPbjx98y58VP8jVooDopPv6XOZAlkQpL0t4ZH75odib6bdbSkuKA\"\"https://id5.cloud.huawei.com/CAS/portal/userRegister/regbyemail.html?reqClientType=90&loginChannel=90000300&countryCode=Global&lang=en-us&loginUrl=https%3A%2F%2Fid5.cloud.huawei.com%2FCAS%2Fportal%2FloginAuth.html&service=https%3A%2F%2Foauth-login5.cloud.huawei.com%2Foauth2%2Fv2%2Fauthorize%3Fresponse_type%3Dcode%26client_id%3D100596125%26redirect_uri%3Dhttps%253A%252F%252Fconsumer.huawei.com%252Fen%252Fcommunity%252Flogin%252F%26scope%3Dhttps%253A%252F%252Fwww.huawei.com%252Fauth%252Faccount%252Fbase.profile%26display%3Dpage&fbclid=IwAR2nTfctPbjx98y58VP8jVooDopPv6XOZAlkQpL0t4ZH75odib6bdbSkuKA\")"
   ]
  },
  {
   "cell_type": "code",
   "execution_count": 17,
   "metadata": {},
   "outputs": [],
   "source": [
    "username = driver.find_element_by_id(\"username\")\n",
    "password = driver.find_element_by_id(\"password\")\n",
    "confirmpwd = driver.find_element_by_id(\"confirmPwd\")\n",
    "emailcode = driver.find_element_by_id(\"authCode\")\n",
    "username.send_keys(email)\n",
    "password.send_keys(passcode)\n",
    "confirmpwd.send_keys(passcode)"
   ]
  },
  {
   "cell_type": "code",
   "execution_count": 18,
   "metadata": {},
   "outputs": [],
   "source": [
    "driver.find_element_by_id(\"getValiCode\").click()"
   ]
  },
  {
   "cell_type": "code",
   "execution_count": 28,
   "metadata": {},
   "outputs": [],
   "source": [
    "driver.switch_to.window(\"tab2\")\n",
    "driver.find_element_by_link_text(\"Verify Your Identity With Email Verification Code\").click()\n",
    "code = driver.find_element_by_xpath(\"/html/body/main/div[1]/div/div[3]/div[2]/div/div[1]/div/div[2]/div[3]/table[1]/tbody/tr[3]/td/span/span/span/b\").text"
   ]
  },
  {
   "cell_type": "code",
   "execution_count": 38,
   "metadata": {},
   "outputs": [],
   "source": [
    "driver.switch_to.window(\"tab3\")\n",
    "emailcode.send_keys(code)"
   ]
  },
  {
   "cell_type": "code",
   "execution_count": 42,
   "metadata": {},
   "outputs": [],
   "source": [
    "driver.find_element_by_id(\"hwid-btnSubmit\").click()"
   ]
  },
  {
   "cell_type": "code",
   "execution_count": 44,
   "metadata": {},
   "outputs": [],
   "source": [
    "driver.find_element_by_xpath(\"/html/body/div[1]/div[2]/div/div[1]/div[2]/div/div[6]/div[1]/div[3]/div[2]/div\").click()"
   ]
  },
  {
   "cell_type": "code",
   "execution_count": 45,
   "metadata": {},
   "outputs": [],
   "source": [
    "driver.find_element_by_xpath(\"/html/body/div[1]/div[2]/div/div[1]/div[2]/div/div[6]/div[1]/div[3]/div[1]/div\").click()"
   ]
  },
  {
   "cell_type": "code",
   "execution_count": 46,
   "metadata": {},
   "outputs": [],
   "source": [
    "driver.find_element_by_xpath(\"/html/body/div[8]/div[2]/div[3]/div[2]/a[2]\").click()"
   ]
  },
  {
   "cell_type": "code",
   "execution_count": 47,
   "metadata": {},
   "outputs": [],
   "source": [
    "driver.find_element_by_xpath(\"/html/body/div[8]/div[2]/div[4]/a\").click()"
   ]
  },
  {
   "cell_type": "code",
   "execution_count": 53,
   "metadata": {},
   "outputs": [],
   "source": [
    "driver.execute_script(\"window.open('about:blank', 'tab4');\") \n",
    "driver.switch_to.window(\"tab4\")\n",
    "driver.get(\"https://consumer.huawei.com/en/community/new-year/?userId=125588297&fbclid=IwAR2AD-mJOvTsA-aXQ3mbIELa7HhgH0GKQJgcyDC4pvMxwu_XHKBnIwQ_DzQ\")"
   ]
  },
  {
   "cell_type": "code",
   "execution_count": 169,
   "metadata": {},
   "outputs": [],
   "source": [
    "from selenium import webdriver\n",
    "from selenium.webdriver import Edge\n",
    "from selenium.webdriver import DesiredCapabilities\n",
    "from selenium.webdriver.common.by import By\n",
    "import clipboard\n",
    "import time\n",
    "\n",
    "capabilities = DesiredCapabilities.EDGE\n",
    "capabilities['ms:inPrivate'] = True\n",
    "driver = Edge(capabilities=capabilities)\n",
    "driver.execute_script(\"window.open('about:blank', 'tab2');\") \n",
    "driver.execute_script(\"window.open('about:blank', 'tab3');\")\n",
    "driver.execute_script(\"window.open('about:blank', 'tab4');\")\n",
    "driver.switch_to.window(\"tab2\")\n",
    "driver.get(\"https://temp-mail.org/\")"
   ]
  },
  {
   "cell_type": "code",
   "execution_count": 186,
   "metadata": {},
   "outputs": [],
   "source": [
    "driver.switch_to.window(\"tab2\")\n",
    "driver.find_element_by_id(\"click-to-delete\").click()\n",
    "time.sleep(10)\n",
    "driver.find_element_by_id(\"click-to-copy\").click()\n",
    "\n",
    "email = clipboard.paste()\n",
    "passcode  = email[:-1]\n",
    "\n",
    "driver.switch_to.window(\"tab3\")\n",
    "driver.get(\"https://id5.cloud.huawei.com/CAS/portal/userRegister/regbyemail.html?reqClientType=90&loginChannel=90000300&countryCode=Global&lang=en-us&loginUrl=https%3A%2F%2Fid5.cloud.huawei.com%2FCAS%2Fportal%2FloginAuth.html&service=https%3A%2F%2Foauth-login5.cloud.huawei.com%2Foauth2%2Fv2%2Fauthorize%3Fresponse_type%3Dcode%26client_id%3D100596125%26redirect_uri%3Dhttps%253A%252F%252Fconsumer.huawei.com%252Fen%252Fcommunity%252Flogin%252F%26scope%3Dhttps%253A%252F%252Fwww.huawei.com%252Fauth%252Faccount%252Fbase.profile%26display%3Dpage&fbclid=IwAR2nTfctPbjx98y58VP8jVooDopPv6XOZAlkQpL0t4ZH75odib6bdbSkuKA\"\"https://id5.cloud.huawei.com/CAS/portal/userRegister/regbyemail.html?reqClientType=90&loginChannel=90000300&countryCode=Global&lang=en-us&loginUrl=https%3A%2F%2Fid5.cloud.huawei.com%2FCAS%2Fportal%2FloginAuth.html&service=https%3A%2F%2Foauth-login5.cloud.huawei.com%2Foauth2%2Fv2%2Fauthorize%3Fresponse_type%3Dcode%26client_id%3D100596125%26redirect_uri%3Dhttps%253A%252F%252Fconsumer.huawei.com%252Fen%252Fcommunity%252Flogin%252F%26scope%3Dhttps%253A%252F%252Fwww.huawei.com%252Fauth%252Faccount%252Fbase.profile%26display%3Dpage&fbclid=IwAR2nTfctPbjx98y58VP8jVooDopPv6XOZAlkQpL0t4ZH75odib6bdbSkuKA\")\n",
    "\n",
    "username = driver.find_element_by_id(\"username\")\n",
    "password = driver.find_element_by_id(\"password\")\n",
    "confirmpwd = driver.find_element_by_id(\"confirmPwd\")\n",
    "emailcode = driver.find_element_by_id(\"authCode\")\n",
    "username.send_keys(email)\n",
    "password.send_keys(passcode)\n",
    "confirmpwd.send_keys(passcode)\n",
    "\n",
    "driver.find_element_by_id(\"getValiCode\").click()\n",
    "time.sleep(17)\n",
    "\n",
    "driver.switch_to.window(\"tab2\")\n",
    "time.sleep(3)\n",
    "# driver.find_element_by_id(\"click-to-refresh\").click()\n",
    "# time.sleep(2)\n",
    "# driver.find_element_by_link_text(\"Verify Your Identity With Email Verification Code\").click()\n",
    "# time.sleep(1)\n",
    "# code = driver.find_element_by_link_text(\"/html/body/main/div[1]/div/div[3]/div[2]/div/div[1]/div/div[2]/div[3]/table[1]/tbody/tr[3]/td/span/span/span/b\").text\n",
    "# driver.switch_to.window(\"tab3\")\n",
    "# emailcode.send_keys(code)\n",
    "# time.sleep(2)\n",
    "# driver.find_element_by_id(\"hwid-btnSubmit\").click()\n",
    "# time.sleep(2)\n",
    "# for i in range(0,1000):\n",
    "#     while True:\n",
    "#         try:\n",
    "#             driver.find_element_by_xpath(\"/html/body/div[1]/div[2]/div/div[1]/div[2]/div/div[6]/div[1]/div[3]/div[2]/div\").click()\n",
    "#         except SomeSpecificException:\n",
    "#             continue\n",
    "#         break\n",
    "# time.sleep(2)\n",
    "# for i in range(0,1000):\n",
    "#     while True:\n",
    "#         try:\n",
    "#             driver.find_element_by_xpath(\"/html/body/div[1]/div[2]/div/div[1]/div[2]/div/div[6]/div[1]/div[3]/div[2]/div\").click()\n",
    "#         except SomeSpecificException:\n",
    "#             continue\n",
    "#         break\n",
    "# time.sleep(2)\n",
    "# for i in range(0,1000):\n",
    "#     while True:\n",
    "#         try:\n",
    "#             driver.find_element_by_xpath(\"/html/body/div[8]/div[2]/div[3]/div[2]/a[2]\").click()\n",
    "#         except SomeSpecificException:\n",
    "#             continue\n",
    "#         break\n",
    "# time.sleep(3)\n",
    "# for i in range(0,1000):\n",
    "#     while True:\n",
    "#         try:\n",
    "#             driver.find_element_by_xpath(\"/html/body/div[8]/div[2]/div[4]/a\").click()\n",
    "#         except SomeSpecificException:\n",
    "#             continue\n",
    "#         break\n",
    "\n",
    "\n",
    "# driver.switch_to.window(\"tab4\")\n",
    "# driver.get(\"https://consumer.huawei.com/en/community/new-year/?userId=125606597&fbclid=IwAR1HG6-GL_SgYTLme-t8pEffUvDlqdS7HPxeecExSsHW4WrLreopNwT4BlY\")"
   ]
  },
  {
   "cell_type": "code",
   "execution_count": 140,
   "metadata": {},
   "outputs": [
    {
     "ename": "NameError",
     "evalue": "name 'SomeSpecificException' is not defined",
     "output_type": "error",
     "traceback": [
      "\u001b[1;31m---------------------------------------------------------------------------\u001b[0m",
      "\u001b[1;31mNoSuchElementException\u001b[0m                    Traceback (most recent call last)",
      "\u001b[1;32m<ipython-input-140-8985b0e62c30>\u001b[0m in \u001b[0;36m<module>\u001b[1;34m\u001b[0m\n\u001b[0;32m      3\u001b[0m         \u001b[1;32mtry\u001b[0m\u001b[1;33m:\u001b[0m\u001b[1;33m\u001b[0m\u001b[1;33m\u001b[0m\u001b[0m\n\u001b[1;32m----> 4\u001b[1;33m             \u001b[0mdriver\u001b[0m\u001b[1;33m.\u001b[0m\u001b[0mfind_element_by_xpath\u001b[0m\u001b[1;33m(\u001b[0m\u001b[1;34m\"/html/body/div[1]/div[2]/div/div[1]/div[2]/div/div[6]/div[1]/div[3]/div[2]/div\"\u001b[0m\u001b[1;33m)\u001b[0m\u001b[1;33m.\u001b[0m\u001b[0mclick\u001b[0m\u001b[1;33m(\u001b[0m\u001b[1;33m)\u001b[0m\u001b[1;33m\u001b[0m\u001b[1;33m\u001b[0m\u001b[0m\n\u001b[0m\u001b[0;32m      5\u001b[0m         \u001b[1;32mexcept\u001b[0m \u001b[0mSomeSpecificException\u001b[0m\u001b[1;33m:\u001b[0m\u001b[1;33m\u001b[0m\u001b[1;33m\u001b[0m\u001b[0m\n",
      "\u001b[1;32m~\\anaconda3\\lib\\site-packages\\selenium\\webdriver\\remote\\webdriver.py\u001b[0m in \u001b[0;36mfind_element_by_xpath\u001b[1;34m(self, xpath)\u001b[0m\n\u001b[0;32m    393\u001b[0m         \"\"\"\n\u001b[1;32m--> 394\u001b[1;33m         \u001b[1;32mreturn\u001b[0m \u001b[0mself\u001b[0m\u001b[1;33m.\u001b[0m\u001b[0mfind_element\u001b[0m\u001b[1;33m(\u001b[0m\u001b[0mby\u001b[0m\u001b[1;33m=\u001b[0m\u001b[0mBy\u001b[0m\u001b[1;33m.\u001b[0m\u001b[0mXPATH\u001b[0m\u001b[1;33m,\u001b[0m \u001b[0mvalue\u001b[0m\u001b[1;33m=\u001b[0m\u001b[0mxpath\u001b[0m\u001b[1;33m)\u001b[0m\u001b[1;33m\u001b[0m\u001b[1;33m\u001b[0m\u001b[0m\n\u001b[0m\u001b[0;32m    395\u001b[0m \u001b[1;33m\u001b[0m\u001b[0m\n",
      "\u001b[1;32m~\\anaconda3\\lib\\site-packages\\selenium\\webdriver\\remote\\webdriver.py\u001b[0m in \u001b[0;36mfind_element\u001b[1;34m(self, by, value)\u001b[0m\n\u001b[0;32m    977\u001b[0m             \u001b[1;34m'using'\u001b[0m\u001b[1;33m:\u001b[0m \u001b[0mby\u001b[0m\u001b[1;33m,\u001b[0m\u001b[1;33m\u001b[0m\u001b[1;33m\u001b[0m\u001b[0m\n\u001b[1;32m--> 978\u001b[1;33m             'value': value})['value']\n\u001b[0m\u001b[0;32m    979\u001b[0m \u001b[1;33m\u001b[0m\u001b[0m\n",
      "\u001b[1;32m~\\anaconda3\\lib\\site-packages\\selenium\\webdriver\\remote\\webdriver.py\u001b[0m in \u001b[0;36mexecute\u001b[1;34m(self, driver_command, params)\u001b[0m\n\u001b[0;32m    320\u001b[0m         \u001b[1;32mif\u001b[0m \u001b[0mresponse\u001b[0m\u001b[1;33m:\u001b[0m\u001b[1;33m\u001b[0m\u001b[1;33m\u001b[0m\u001b[0m\n\u001b[1;32m--> 321\u001b[1;33m             \u001b[0mself\u001b[0m\u001b[1;33m.\u001b[0m\u001b[0merror_handler\u001b[0m\u001b[1;33m.\u001b[0m\u001b[0mcheck_response\u001b[0m\u001b[1;33m(\u001b[0m\u001b[0mresponse\u001b[0m\u001b[1;33m)\u001b[0m\u001b[1;33m\u001b[0m\u001b[1;33m\u001b[0m\u001b[0m\n\u001b[0m\u001b[0;32m    322\u001b[0m             response['value'] = self._unwrap_value(\n",
      "\u001b[1;32m~\\anaconda3\\lib\\site-packages\\selenium\\webdriver\\remote\\errorhandler.py\u001b[0m in \u001b[0;36mcheck_response\u001b[1;34m(self, response)\u001b[0m\n\u001b[0;32m    241\u001b[0m             \u001b[1;32mraise\u001b[0m \u001b[0mexception_class\u001b[0m\u001b[1;33m(\u001b[0m\u001b[0mmessage\u001b[0m\u001b[1;33m,\u001b[0m \u001b[0mscreen\u001b[0m\u001b[1;33m,\u001b[0m \u001b[0mstacktrace\u001b[0m\u001b[1;33m,\u001b[0m \u001b[0malert_text\u001b[0m\u001b[1;33m)\u001b[0m\u001b[1;33m\u001b[0m\u001b[1;33m\u001b[0m\u001b[0m\n\u001b[1;32m--> 242\u001b[1;33m         \u001b[1;32mraise\u001b[0m \u001b[0mexception_class\u001b[0m\u001b[1;33m(\u001b[0m\u001b[0mmessage\u001b[0m\u001b[1;33m,\u001b[0m \u001b[0mscreen\u001b[0m\u001b[1;33m,\u001b[0m \u001b[0mstacktrace\u001b[0m\u001b[1;33m)\u001b[0m\u001b[1;33m\u001b[0m\u001b[1;33m\u001b[0m\u001b[0m\n\u001b[0m\u001b[0;32m    243\u001b[0m \u001b[1;33m\u001b[0m\u001b[0m\n",
      "\u001b[1;31mNoSuchElementException\u001b[0m: Message: no such element: Unable to locate element: {\"method\":\"xpath\",\"selector\":\"/html/body/div[1]/div[2]/div/div[1]/div[2]/div/div[6]/div[1]/div[3]/div[2]/div\"}\n  (Session info: MicrosoftEdge=87.0.664.66)\n",
      "\nDuring handling of the above exception, another exception occurred:\n",
      "\u001b[1;31mNameError\u001b[0m                                 Traceback (most recent call last)",
      "\u001b[1;32m<ipython-input-140-8985b0e62c30>\u001b[0m in \u001b[0;36m<module>\u001b[1;34m\u001b[0m\n\u001b[0;32m      3\u001b[0m         \u001b[1;32mtry\u001b[0m\u001b[1;33m:\u001b[0m\u001b[1;33m\u001b[0m\u001b[1;33m\u001b[0m\u001b[0m\n\u001b[0;32m      4\u001b[0m             \u001b[0mdriver\u001b[0m\u001b[1;33m.\u001b[0m\u001b[0mfind_element_by_xpath\u001b[0m\u001b[1;33m(\u001b[0m\u001b[1;34m\"/html/body/div[1]/div[2]/div/div[1]/div[2]/div/div[6]/div[1]/div[3]/div[2]/div\"\u001b[0m\u001b[1;33m)\u001b[0m\u001b[1;33m.\u001b[0m\u001b[0mclick\u001b[0m\u001b[1;33m(\u001b[0m\u001b[1;33m)\u001b[0m\u001b[1;33m\u001b[0m\u001b[1;33m\u001b[0m\u001b[0m\n\u001b[1;32m----> 5\u001b[1;33m         \u001b[1;32mexcept\u001b[0m \u001b[0mSomeSpecificException\u001b[0m\u001b[1;33m:\u001b[0m\u001b[1;33m\u001b[0m\u001b[1;33m\u001b[0m\u001b[0m\n\u001b[0m\u001b[0;32m      6\u001b[0m             \u001b[1;32mcontinue\u001b[0m\u001b[1;33m\u001b[0m\u001b[1;33m\u001b[0m\u001b[0m\n\u001b[0;32m      7\u001b[0m         \u001b[1;32mbreak\u001b[0m\u001b[1;33m\u001b[0m\u001b[1;33m\u001b[0m\u001b[0m\n",
      "\u001b[1;31mNameError\u001b[0m: name 'SomeSpecificException' is not defined"
     ]
    }
   ],
   "source": [
    "\n",
    "for i in range(0,100):\n",
    "    while True:\n",
    "        try:\n",
    "            driver.find_element_by_xpath(\"/html/body/div[1]/div[2]/div/div[1]/div[2]/div/div[6]/div[1]/div[3]/div[2]/div\").click()\n",
    "        except SomeSpecificException:\n",
    "            continue\n",
    "        break\n",
    "\n",
    "for i in range(0,100):\n",
    "    while True:\n",
    "        try:\n",
    "            driver.find_element_by_xpath(\"/html/body/div[1]/div[2]/div/div[1]/div[2]/div/div[6]/div[1]/div[3]/div[2]/div\").click()\n",
    "        except SomeSpecificException:\n",
    "            continue\n",
    "        break\n",
    "\n",
    "for i in range(0,100):\n",
    "    while True:\n",
    "        try:\n",
    "            driver.find_element_by_xpath(\"/html/body/div[8]/div[2]/div[3]/div[2]/a[2]\").click()\n",
    "        except SomeSpecificException:\n",
    "            continue\n",
    "        break\n",
    "\n",
    "for i in range(0,100):\n",
    "    while True:\n",
    "        try:\n",
    "            driver.find_element_by_xpath(\"/html/body/div[8]/div[2]/div[4]/a\").click()\n",
    "        except SomeSpecificException:\n",
    "            continue\n",
    "        break\n",
    "\n",
    "\n",
    "driver.switch_to.window(\"tab4\")\n",
    "driver.get(\"https://consumer.huawei.com/en/community/new-year/?userId=125588297&fbclid=IwAR2AD-mJOvTsA-aXQ3mbIELa7HhgH0GKQJgcyDC4pvMxwu_XHKBnIwQ_DzQ\")"
   ]
  }
 ],
 "metadata": {
  "kernelspec": {
   "display_name": "Python 3",
   "language": "python",
   "name": "python3"
  },
  "language_info": {
   "codemirror_mode": {
    "name": "ipython",
    "version": 3
   },
   "file_extension": ".py",
   "mimetype": "text/x-python",
   "name": "python",
   "nbconvert_exporter": "python",
   "pygments_lexer": "ipython3",
   "version": "3.7.6"
  }
 },
 "nbformat": 4,
 "nbformat_minor": 4
}
